{
 "cells": [
  {
   "cell_type": "code",
   "execution_count": 6,
   "id": "initial_id",
   "metadata": {
    "collapsed": true,
    "ExecuteTime": {
     "end_time": "2023-10-05T11:52:38.106985800Z",
     "start_time": "2023-10-05T11:52:37.751937Z"
    }
   },
   "outputs": [],
   "source": [
    "import pandas as pd\n",
    "import numpy as np\n",
    "import matplotlib.pyplot as plt\n",
    "import seaborn as sns "
   ]
  },
  {
   "cell_type": "code",
   "execution_count": 7,
   "outputs": [],
   "source": [
    "df=pd.read_csv('EcomerceData.csv',encoding='latin-1')"
   ],
   "metadata": {
    "collapsed": false,
    "ExecuteTime": {
     "end_time": "2023-10-05T11:52:39.190089600Z",
     "start_time": "2023-10-05T11:52:37.782852900Z"
    }
   },
   "id": "8b516a54f93c0835"
  },
  {
   "cell_type": "code",
   "execution_count": 8,
   "outputs": [
    {
     "data": {
      "text/plain": "  InvoiceNo StockCode                          Description  Quantity  \\\n0    536365    85123A   WHITE HANGING HEART T-LIGHT HOLDER         6   \n1    536365     71053                  WHITE METAL LANTERN         6   \n2    536365    84406B       CREAM CUPID HEARTS COAT HANGER         8   \n3    536365    84029G  KNITTED UNION FLAG HOT WATER BOTTLE         6   \n4    536365    84029E       RED WOOLLY HOTTIE WHITE HEART.         6   \n\n      InvoiceDate  UnitPrice  CustomerID         Country  \n0  12/1/2010 8:26       2.55     17850.0  United Kingdom  \n1  12/1/2010 8:26       3.39     17850.0  United Kingdom  \n2  12/1/2010 8:26       2.75     17850.0  United Kingdom  \n3  12/1/2010 8:26       3.39     17850.0  United Kingdom  \n4  12/1/2010 8:26       3.39     17850.0  United Kingdom  ",
      "text/html": "<div>\n<style scoped>\n    .dataframe tbody tr th:only-of-type {\n        vertical-align: middle;\n    }\n\n    .dataframe tbody tr th {\n        vertical-align: top;\n    }\n\n    .dataframe thead th {\n        text-align: right;\n    }\n</style>\n<table border=\"1\" class=\"dataframe\">\n  <thead>\n    <tr style=\"text-align: right;\">\n      <th></th>\n      <th>InvoiceNo</th>\n      <th>StockCode</th>\n      <th>Description</th>\n      <th>Quantity</th>\n      <th>InvoiceDate</th>\n      <th>UnitPrice</th>\n      <th>CustomerID</th>\n      <th>Country</th>\n    </tr>\n  </thead>\n  <tbody>\n    <tr>\n      <th>0</th>\n      <td>536365</td>\n      <td>85123A</td>\n      <td>WHITE HANGING HEART T-LIGHT HOLDER</td>\n      <td>6</td>\n      <td>12/1/2010 8:26</td>\n      <td>2.55</td>\n      <td>17850.0</td>\n      <td>United Kingdom</td>\n    </tr>\n    <tr>\n      <th>1</th>\n      <td>536365</td>\n      <td>71053</td>\n      <td>WHITE METAL LANTERN</td>\n      <td>6</td>\n      <td>12/1/2010 8:26</td>\n      <td>3.39</td>\n      <td>17850.0</td>\n      <td>United Kingdom</td>\n    </tr>\n    <tr>\n      <th>2</th>\n      <td>536365</td>\n      <td>84406B</td>\n      <td>CREAM CUPID HEARTS COAT HANGER</td>\n      <td>8</td>\n      <td>12/1/2010 8:26</td>\n      <td>2.75</td>\n      <td>17850.0</td>\n      <td>United Kingdom</td>\n    </tr>\n    <tr>\n      <th>3</th>\n      <td>536365</td>\n      <td>84029G</td>\n      <td>KNITTED UNION FLAG HOT WATER BOTTLE</td>\n      <td>6</td>\n      <td>12/1/2010 8:26</td>\n      <td>3.39</td>\n      <td>17850.0</td>\n      <td>United Kingdom</td>\n    </tr>\n    <tr>\n      <th>4</th>\n      <td>536365</td>\n      <td>84029E</td>\n      <td>RED WOOLLY HOTTIE WHITE HEART.</td>\n      <td>6</td>\n      <td>12/1/2010 8:26</td>\n      <td>3.39</td>\n      <td>17850.0</td>\n      <td>United Kingdom</td>\n    </tr>\n  </tbody>\n</table>\n</div>"
     },
     "execution_count": 8,
     "metadata": {},
     "output_type": "execute_result"
    }
   ],
   "source": [
    "df.head()"
   ],
   "metadata": {
    "collapsed": false,
    "ExecuteTime": {
     "end_time": "2023-10-05T11:52:39.269877600Z",
     "start_time": "2023-10-05T11:52:39.200063900Z"
    }
   },
   "id": "e1f13a91e2c7e088"
  },
  {
   "cell_type": "markdown",
   "source": [
    "# Data overview"
   ],
   "metadata": {
    "collapsed": false
   },
   "id": "a87e4e286112468b"
  },
  {
   "cell_type": "code",
   "execution_count": 9,
   "outputs": [],
   "source": [
    "def dataoverview(df):\n",
    "    print('Data Overview\\n')\n",
    "    print('Number of records:\\n',df.shape[0])\n",
    "    print('Number of features:\\n',df.shape[1])\n",
    "    print('Feature name:\\n',df.columns.to_list())\n",
    "    print('Discriptive view on the data:\\n',df.describe())\n",
    "    print(df.info())\n",
    "    if df.isnull().sum().sum()==0:\n",
    "        print('Number of missing values:\\n',df.isnull().sum().sum())\n",
    "    else:\n",
    "        print('Number of missing values in each columns:\\n',df.isnull().sum())\n",
    "    print('number of unique values:\\n',df.nunique())"
   ],
   "metadata": {
    "collapsed": false,
    "ExecuteTime": {
     "end_time": "2023-10-05T11:52:39.478319100Z",
     "start_time": "2023-10-05T11:52:39.269877600Z"
    }
   },
   "id": "adaa911042d66223"
  },
  {
   "cell_type": "code",
   "execution_count": 10,
   "outputs": [
    {
     "name": "stdout",
     "output_type": "stream",
     "text": [
      "Data Overview\n",
      "\n",
      "Number of records:\n",
      " 541909\n",
      "Number of features:\n",
      " 8\n",
      "Feature name:\n",
      " ['InvoiceNo', 'StockCode', 'Description', 'Quantity', 'InvoiceDate', 'UnitPrice', 'CustomerID', 'Country']\n",
      "Discriptive view on the data:\n",
      "             Quantity      UnitPrice     CustomerID\n",
      "count  541909.000000  541909.000000  406829.000000\n",
      "mean        9.552250       4.611114   15287.690570\n",
      "std       218.081158      96.759853    1713.600303\n",
      "min    -80995.000000  -11062.060000   12346.000000\n",
      "25%         1.000000       1.250000   13953.000000\n",
      "50%         3.000000       2.080000   15152.000000\n",
      "75%        10.000000       4.130000   16791.000000\n",
      "max     80995.000000   38970.000000   18287.000000\n",
      "<class 'pandas.core.frame.DataFrame'>\n",
      "RangeIndex: 541909 entries, 0 to 541908\n",
      "Data columns (total 8 columns):\n",
      " #   Column       Non-Null Count   Dtype  \n",
      "---  ------       --------------   -----  \n",
      " 0   InvoiceNo    541909 non-null  object \n",
      " 1   StockCode    541909 non-null  object \n",
      " 2   Description  540455 non-null  object \n",
      " 3   Quantity     541909 non-null  int64  \n",
      " 4   InvoiceDate  541909 non-null  object \n",
      " 5   UnitPrice    541909 non-null  float64\n",
      " 6   CustomerID   406829 non-null  float64\n",
      " 7   Country      541909 non-null  object \n",
      "dtypes: float64(2), int64(1), object(5)\n",
      "memory usage: 33.1+ MB\n",
      "None\n",
      "Number of missing values in each columns:\n",
      " InvoiceNo           0\n",
      "StockCode           0\n",
      "Description      1454\n",
      "Quantity            0\n",
      "InvoiceDate         0\n",
      "UnitPrice           0\n",
      "CustomerID     135080\n",
      "Country             0\n",
      "dtype: int64\n",
      "number of unique values:\n",
      " InvoiceNo      25900\n",
      "StockCode       4070\n",
      "Description     4223\n",
      "Quantity         722\n",
      "InvoiceDate    23260\n",
      "UnitPrice       1630\n",
      "CustomerID      4372\n",
      "Country           38\n",
      "dtype: int64\n"
     ]
    }
   ],
   "source": [
    "dataoverview(df)"
   ],
   "metadata": {
    "collapsed": false,
    "ExecuteTime": {
     "end_time": "2023-10-05T11:52:40.739562100Z",
     "start_time": "2023-10-05T11:52:39.355647400Z"
    }
   },
   "id": "2251166fc6eb4d91"
  },
  {
   "cell_type": "markdown",
   "source": [
    "# Data cleaning and preprocessing"
   ],
   "metadata": {
    "collapsed": false
   },
   "id": "aa4b7f2e199bd1cc"
  },
  {
   "cell_type": "code",
   "execution_count": 11,
   "outputs": [],
   "source": [
    "# Filling missing values in the CustomerID with unknown/ annonimus data\n",
    "\n",
    "df['CustomerID'].fillna('Unknown',inplace=True)"
   ],
   "metadata": {
    "collapsed": false,
    "ExecuteTime": {
     "end_time": "2023-10-05T11:52:40.781028900Z",
     "start_time": "2023-10-05T11:52:40.730586200Z"
    }
   },
   "id": "c221594a2a94ed6f"
  },
  {
   "cell_type": "code",
   "execution_count": 12,
   "outputs": [],
   "source": [
    "# Filling missing values in the Description with unknown/ annonimus dat\n",
    "\n",
    "df['Description'].fillna('Unknown',inplace=True)"
   ],
   "metadata": {
    "collapsed": false,
    "ExecuteTime": {
     "end_time": "2023-10-05T11:52:40.839870300Z",
     "start_time": "2023-10-05T11:52:40.779032300Z"
    }
   },
   "id": "f32bb9c7358fbfe9"
  },
  {
   "cell_type": "code",
   "execution_count": 13,
   "outputs": [],
   "source": [
    "# Changing invoicedate column values datatype into datetime object\n",
    "\n",
    "df['InvoiceDate']=pd.to_datetime(df['InvoiceDate'])"
   ],
   "metadata": {
    "collapsed": false,
    "ExecuteTime": {
     "end_time": "2023-10-05T11:52:41.041331100Z",
     "start_time": "2023-10-05T11:52:40.841864600Z"
    }
   },
   "id": "b1ada6c552d2783f"
  },
  {
   "cell_type": "code",
   "execution_count": 14,
   "outputs": [
    {
     "data": {
      "text/plain": "       InvoiceNo StockCode                        Description  Quantity  \\\n61619     541431     23166     MEDIUM CERAMIC TOP STORAGE JAR     74215   \n74614     542504     37413                            Unknown      5568   \n206121    554868     22197               SMALL POPCORN HOLDER      4300   \n421632    573008     84077  WORLD WAR 2 GLIDERS ASSTD DESIGNS      4800   \n502122    578841     84826     ASSTD DESIGN 3D PAPER STICKERS     12540   \n540421    581483     23843        PAPER CRAFT , LITTLE BIRDIE     80995   \n\n               InvoiceDate  UnitPrice CustomerID         Country  \n61619  2011-01-18 10:01:00       1.04    12346.0  United Kingdom  \n74614  2011-01-28 12:03:00       0.00    Unknown  United Kingdom  \n206121 2011-05-27 10:52:00       0.72    13135.0  United Kingdom  \n421632 2011-10-27 12:26:00       0.21    12901.0  United Kingdom  \n502122 2011-11-25 15:57:00       0.00    13256.0  United Kingdom  \n540421 2011-12-09 09:15:00       2.08    16446.0  United Kingdom  ",
      "text/html": "<div>\n<style scoped>\n    .dataframe tbody tr th:only-of-type {\n        vertical-align: middle;\n    }\n\n    .dataframe tbody tr th {\n        vertical-align: top;\n    }\n\n    .dataframe thead th {\n        text-align: right;\n    }\n</style>\n<table border=\"1\" class=\"dataframe\">\n  <thead>\n    <tr style=\"text-align: right;\">\n      <th></th>\n      <th>InvoiceNo</th>\n      <th>StockCode</th>\n      <th>Description</th>\n      <th>Quantity</th>\n      <th>InvoiceDate</th>\n      <th>UnitPrice</th>\n      <th>CustomerID</th>\n      <th>Country</th>\n    </tr>\n  </thead>\n  <tbody>\n    <tr>\n      <th>61619</th>\n      <td>541431</td>\n      <td>23166</td>\n      <td>MEDIUM CERAMIC TOP STORAGE JAR</td>\n      <td>74215</td>\n      <td>2011-01-18 10:01:00</td>\n      <td>1.04</td>\n      <td>12346.0</td>\n      <td>United Kingdom</td>\n    </tr>\n    <tr>\n      <th>74614</th>\n      <td>542504</td>\n      <td>37413</td>\n      <td>Unknown</td>\n      <td>5568</td>\n      <td>2011-01-28 12:03:00</td>\n      <td>0.00</td>\n      <td>Unknown</td>\n      <td>United Kingdom</td>\n    </tr>\n    <tr>\n      <th>206121</th>\n      <td>554868</td>\n      <td>22197</td>\n      <td>SMALL POPCORN HOLDER</td>\n      <td>4300</td>\n      <td>2011-05-27 10:52:00</td>\n      <td>0.72</td>\n      <td>13135.0</td>\n      <td>United Kingdom</td>\n    </tr>\n    <tr>\n      <th>421632</th>\n      <td>573008</td>\n      <td>84077</td>\n      <td>WORLD WAR 2 GLIDERS ASSTD DESIGNS</td>\n      <td>4800</td>\n      <td>2011-10-27 12:26:00</td>\n      <td>0.21</td>\n      <td>12901.0</td>\n      <td>United Kingdom</td>\n    </tr>\n    <tr>\n      <th>502122</th>\n      <td>578841</td>\n      <td>84826</td>\n      <td>ASSTD DESIGN 3D PAPER STICKERS</td>\n      <td>12540</td>\n      <td>2011-11-25 15:57:00</td>\n      <td>0.00</td>\n      <td>13256.0</td>\n      <td>United Kingdom</td>\n    </tr>\n    <tr>\n      <th>540421</th>\n      <td>581483</td>\n      <td>23843</td>\n      <td>PAPER CRAFT , LITTLE BIRDIE</td>\n      <td>80995</td>\n      <td>2011-12-09 09:15:00</td>\n      <td>2.08</td>\n      <td>16446.0</td>\n      <td>United Kingdom</td>\n    </tr>\n  </tbody>\n</table>\n</div>"
     },
     "execution_count": 14,
     "metadata": {},
     "output_type": "execute_result"
    }
   ],
   "source": [
    "# There we can see a huge differnce in the descriptive analysis from the data overview \n",
    "# in the max value when compiring with the 75% of the data\n",
    "# Checking the outlier \n",
    "\n",
    "df[df['Quantity']>4000]"
   ],
   "metadata": {
    "collapsed": false,
    "ExecuteTime": {
     "end_time": "2023-10-05T11:52:41.101172100Z",
     "start_time": "2023-10-05T11:52:41.043326300Z"
    }
   },
   "id": "78973537798661f5"
  },
  {
   "cell_type": "markdown",
   "source": [
    "From my observation i found that even if the quantity is high there is a unit price given and the product description is clear \n",
    "so we should check for where ever we have zero in the unity price"
   ],
   "metadata": {
    "collapsed": false
   },
   "id": "156fc87c5a8f6fae"
  },
  {
   "cell_type": "code",
   "execution_count": 15,
   "outputs": [
    {
     "data": {
      "text/plain": "       InvoiceNo StockCode                   Description  Quantity  \\\n622       536414     22139                       Unknown        56   \n1970      536545     21134                       Unknown         1   \n1971      536546     22145                       Unknown         1   \n1972      536547     37509                       Unknown         1   \n1987      536549    85226A                       Unknown         1   \n...          ...       ...                           ...       ...   \n536981    581234     72817                       Unknown        27   \n538504    581406    46000M  POLYESTER FILLER PAD 45x45cm       240   \n538505    581406    46000S  POLYESTER FILLER PAD 40x40cm       300   \n538554    581408     85175                       Unknown        20   \n538919    581422     23169                       smashed      -235   \n\n               InvoiceDate  UnitPrice CustomerID         Country  \n622    2010-12-01 11:52:00        0.0    Unknown  United Kingdom  \n1970   2010-12-01 14:32:00        0.0    Unknown  United Kingdom  \n1971   2010-12-01 14:33:00        0.0    Unknown  United Kingdom  \n1972   2010-12-01 14:33:00        0.0    Unknown  United Kingdom  \n1987   2010-12-01 14:34:00        0.0    Unknown  United Kingdom  \n...                    ...        ...        ...             ...  \n536981 2011-12-08 10:33:00        0.0    Unknown  United Kingdom  \n538504 2011-12-08 13:58:00        0.0    Unknown  United Kingdom  \n538505 2011-12-08 13:58:00        0.0    Unknown  United Kingdom  \n538554 2011-12-08 14:06:00        0.0    Unknown  United Kingdom  \n538919 2011-12-08 15:24:00        0.0    Unknown  United Kingdom  \n\n[2515 rows x 8 columns]",
      "text/html": "<div>\n<style scoped>\n    .dataframe tbody tr th:only-of-type {\n        vertical-align: middle;\n    }\n\n    .dataframe tbody tr th {\n        vertical-align: top;\n    }\n\n    .dataframe thead th {\n        text-align: right;\n    }\n</style>\n<table border=\"1\" class=\"dataframe\">\n  <thead>\n    <tr style=\"text-align: right;\">\n      <th></th>\n      <th>InvoiceNo</th>\n      <th>StockCode</th>\n      <th>Description</th>\n      <th>Quantity</th>\n      <th>InvoiceDate</th>\n      <th>UnitPrice</th>\n      <th>CustomerID</th>\n      <th>Country</th>\n    </tr>\n  </thead>\n  <tbody>\n    <tr>\n      <th>622</th>\n      <td>536414</td>\n      <td>22139</td>\n      <td>Unknown</td>\n      <td>56</td>\n      <td>2010-12-01 11:52:00</td>\n      <td>0.0</td>\n      <td>Unknown</td>\n      <td>United Kingdom</td>\n    </tr>\n    <tr>\n      <th>1970</th>\n      <td>536545</td>\n      <td>21134</td>\n      <td>Unknown</td>\n      <td>1</td>\n      <td>2010-12-01 14:32:00</td>\n      <td>0.0</td>\n      <td>Unknown</td>\n      <td>United Kingdom</td>\n    </tr>\n    <tr>\n      <th>1971</th>\n      <td>536546</td>\n      <td>22145</td>\n      <td>Unknown</td>\n      <td>1</td>\n      <td>2010-12-01 14:33:00</td>\n      <td>0.0</td>\n      <td>Unknown</td>\n      <td>United Kingdom</td>\n    </tr>\n    <tr>\n      <th>1972</th>\n      <td>536547</td>\n      <td>37509</td>\n      <td>Unknown</td>\n      <td>1</td>\n      <td>2010-12-01 14:33:00</td>\n      <td>0.0</td>\n      <td>Unknown</td>\n      <td>United Kingdom</td>\n    </tr>\n    <tr>\n      <th>1987</th>\n      <td>536549</td>\n      <td>85226A</td>\n      <td>Unknown</td>\n      <td>1</td>\n      <td>2010-12-01 14:34:00</td>\n      <td>0.0</td>\n      <td>Unknown</td>\n      <td>United Kingdom</td>\n    </tr>\n    <tr>\n      <th>...</th>\n      <td>...</td>\n      <td>...</td>\n      <td>...</td>\n      <td>...</td>\n      <td>...</td>\n      <td>...</td>\n      <td>...</td>\n      <td>...</td>\n    </tr>\n    <tr>\n      <th>536981</th>\n      <td>581234</td>\n      <td>72817</td>\n      <td>Unknown</td>\n      <td>27</td>\n      <td>2011-12-08 10:33:00</td>\n      <td>0.0</td>\n      <td>Unknown</td>\n      <td>United Kingdom</td>\n    </tr>\n    <tr>\n      <th>538504</th>\n      <td>581406</td>\n      <td>46000M</td>\n      <td>POLYESTER FILLER PAD 45x45cm</td>\n      <td>240</td>\n      <td>2011-12-08 13:58:00</td>\n      <td>0.0</td>\n      <td>Unknown</td>\n      <td>United Kingdom</td>\n    </tr>\n    <tr>\n      <th>538505</th>\n      <td>581406</td>\n      <td>46000S</td>\n      <td>POLYESTER FILLER PAD 40x40cm</td>\n      <td>300</td>\n      <td>2011-12-08 13:58:00</td>\n      <td>0.0</td>\n      <td>Unknown</td>\n      <td>United Kingdom</td>\n    </tr>\n    <tr>\n      <th>538554</th>\n      <td>581408</td>\n      <td>85175</td>\n      <td>Unknown</td>\n      <td>20</td>\n      <td>2011-12-08 14:06:00</td>\n      <td>0.0</td>\n      <td>Unknown</td>\n      <td>United Kingdom</td>\n    </tr>\n    <tr>\n      <th>538919</th>\n      <td>581422</td>\n      <td>23169</td>\n      <td>smashed</td>\n      <td>-235</td>\n      <td>2011-12-08 15:24:00</td>\n      <td>0.0</td>\n      <td>Unknown</td>\n      <td>United Kingdom</td>\n    </tr>\n  </tbody>\n</table>\n<p>2515 rows × 8 columns</p>\n</div>"
     },
     "execution_count": 15,
     "metadata": {},
     "output_type": "execute_result"
    }
   ],
   "source": [
    "df[df['UnitPrice']==0]"
   ],
   "metadata": {
    "collapsed": false,
    "ExecuteTime": {
     "end_time": "2023-10-05T11:52:41.200905400Z",
     "start_time": "2023-10-05T11:52:41.078233900Z"
    }
   },
   "id": "a645198dc1e3ef90"
  },
  {
   "cell_type": "markdown",
   "source": [
    "We can remove those rows having the unitprice is zero"
   ],
   "metadata": {
    "collapsed": false
   },
   "id": "f8a8ed52174bbe32"
  },
  {
   "cell_type": "code",
   "execution_count": 16,
   "outputs": [],
   "source": [
    "df=df[df['UnitPrice']!=0]"
   ],
   "metadata": {
    "collapsed": false,
    "ExecuteTime": {
     "end_time": "2023-10-05T11:52:41.271715500Z",
     "start_time": "2023-10-05T11:52:41.122114900Z"
    }
   },
   "id": "cbd217b9e5531843"
  },
  {
   "cell_type": "markdown",
   "source": [
    "Checking what is the problem with the unit price is more high"
   ],
   "metadata": {
    "collapsed": false
   },
   "id": "14f6e83679fdcf48"
  },
  {
   "cell_type": "code",
   "execution_count": 17,
   "outputs": [
    {
     "data": {
      "text/plain": "       InvoiceNo  StockCode      Description  Quantity         InvoiceDate  \\\n15016    C537630  AMAZONFEE       AMAZON FEE        -1 2010-12-07 15:04:00   \n15017     537632  AMAZONFEE       AMAZON FEE         1 2010-12-07 15:08:00   \n16232    C537644  AMAZONFEE       AMAZON FEE        -1 2010-12-07 15:34:00   \n16356    C537651  AMAZONFEE       AMAZON FEE        -1 2010-12-07 15:49:00   \n43702    C540117  AMAZONFEE       AMAZON FEE        -1 2011-01-05 09:55:00   \n43703    C540118  AMAZONFEE       AMAZON FEE        -1 2011-01-05 09:57:00   \n222681   C556445          M           Manual        -1 2011-06-10 15:31:00   \n299982   A563185          B  Adjust bad debt         1 2011-08-12 14:50:00   \n524601   C580604  AMAZONFEE       AMAZON FEE        -1 2011-12-05 11:35:00   \n524602   C580605  AMAZONFEE       AMAZON FEE        -1 2011-12-05 11:36:00   \n\n        UnitPrice CustomerID         Country  \n15016    13541.33    Unknown  United Kingdom  \n15017    13541.33    Unknown  United Kingdom  \n16232    13474.79    Unknown  United Kingdom  \n16356    13541.33    Unknown  United Kingdom  \n43702    16888.02    Unknown  United Kingdom  \n43703    16453.71    Unknown  United Kingdom  \n222681   38970.00    15098.0  United Kingdom  \n299982   11062.06    Unknown  United Kingdom  \n524601   11586.50    Unknown  United Kingdom  \n524602   17836.46    Unknown  United Kingdom  ",
      "text/html": "<div>\n<style scoped>\n    .dataframe tbody tr th:only-of-type {\n        vertical-align: middle;\n    }\n\n    .dataframe tbody tr th {\n        vertical-align: top;\n    }\n\n    .dataframe thead th {\n        text-align: right;\n    }\n</style>\n<table border=\"1\" class=\"dataframe\">\n  <thead>\n    <tr style=\"text-align: right;\">\n      <th></th>\n      <th>InvoiceNo</th>\n      <th>StockCode</th>\n      <th>Description</th>\n      <th>Quantity</th>\n      <th>InvoiceDate</th>\n      <th>UnitPrice</th>\n      <th>CustomerID</th>\n      <th>Country</th>\n    </tr>\n  </thead>\n  <tbody>\n    <tr>\n      <th>15016</th>\n      <td>C537630</td>\n      <td>AMAZONFEE</td>\n      <td>AMAZON FEE</td>\n      <td>-1</td>\n      <td>2010-12-07 15:04:00</td>\n      <td>13541.33</td>\n      <td>Unknown</td>\n      <td>United Kingdom</td>\n    </tr>\n    <tr>\n      <th>15017</th>\n      <td>537632</td>\n      <td>AMAZONFEE</td>\n      <td>AMAZON FEE</td>\n      <td>1</td>\n      <td>2010-12-07 15:08:00</td>\n      <td>13541.33</td>\n      <td>Unknown</td>\n      <td>United Kingdom</td>\n    </tr>\n    <tr>\n      <th>16232</th>\n      <td>C537644</td>\n      <td>AMAZONFEE</td>\n      <td>AMAZON FEE</td>\n      <td>-1</td>\n      <td>2010-12-07 15:34:00</td>\n      <td>13474.79</td>\n      <td>Unknown</td>\n      <td>United Kingdom</td>\n    </tr>\n    <tr>\n      <th>16356</th>\n      <td>C537651</td>\n      <td>AMAZONFEE</td>\n      <td>AMAZON FEE</td>\n      <td>-1</td>\n      <td>2010-12-07 15:49:00</td>\n      <td>13541.33</td>\n      <td>Unknown</td>\n      <td>United Kingdom</td>\n    </tr>\n    <tr>\n      <th>43702</th>\n      <td>C540117</td>\n      <td>AMAZONFEE</td>\n      <td>AMAZON FEE</td>\n      <td>-1</td>\n      <td>2011-01-05 09:55:00</td>\n      <td>16888.02</td>\n      <td>Unknown</td>\n      <td>United Kingdom</td>\n    </tr>\n    <tr>\n      <th>43703</th>\n      <td>C540118</td>\n      <td>AMAZONFEE</td>\n      <td>AMAZON FEE</td>\n      <td>-1</td>\n      <td>2011-01-05 09:57:00</td>\n      <td>16453.71</td>\n      <td>Unknown</td>\n      <td>United Kingdom</td>\n    </tr>\n    <tr>\n      <th>222681</th>\n      <td>C556445</td>\n      <td>M</td>\n      <td>Manual</td>\n      <td>-1</td>\n      <td>2011-06-10 15:31:00</td>\n      <td>38970.00</td>\n      <td>15098.0</td>\n      <td>United Kingdom</td>\n    </tr>\n    <tr>\n      <th>299982</th>\n      <td>A563185</td>\n      <td>B</td>\n      <td>Adjust bad debt</td>\n      <td>1</td>\n      <td>2011-08-12 14:50:00</td>\n      <td>11062.06</td>\n      <td>Unknown</td>\n      <td>United Kingdom</td>\n    </tr>\n    <tr>\n      <th>524601</th>\n      <td>C580604</td>\n      <td>AMAZONFEE</td>\n      <td>AMAZON FEE</td>\n      <td>-1</td>\n      <td>2011-12-05 11:35:00</td>\n      <td>11586.50</td>\n      <td>Unknown</td>\n      <td>United Kingdom</td>\n    </tr>\n    <tr>\n      <th>524602</th>\n      <td>C580605</td>\n      <td>AMAZONFEE</td>\n      <td>AMAZON FEE</td>\n      <td>-1</td>\n      <td>2011-12-05 11:36:00</td>\n      <td>17836.46</td>\n      <td>Unknown</td>\n      <td>United Kingdom</td>\n    </tr>\n  </tbody>\n</table>\n</div>"
     },
     "execution_count": 17,
     "metadata": {},
     "output_type": "execute_result"
    }
   ],
   "source": [
    "df[df['UnitPrice']>10000]"
   ],
   "metadata": {
    "collapsed": false,
    "ExecuteTime": {
     "end_time": "2023-10-05T11:52:41.312605300Z",
     "start_time": "2023-10-05T11:52:41.202900400Z"
    }
   },
   "id": "375074fa917e0a51"
  },
  {
   "cell_type": "markdown",
   "source": [
    "We can remove this 10 rows this seems to be an outlier for us"
   ],
   "metadata": {
    "collapsed": false
   },
   "id": "82626518260b90b"
  },
  {
   "cell_type": "code",
   "execution_count": 18,
   "outputs": [],
   "source": [
    "df=df[df['UnitPrice']<10000]"
   ],
   "metadata": {
    "collapsed": false,
    "ExecuteTime": {
     "end_time": "2023-10-05T11:52:41.462205200Z",
     "start_time": "2023-10-05T11:52:41.248776700Z"
    }
   },
   "id": "a39efd3e25a34635"
  },
  {
   "cell_type": "code",
   "execution_count": 19,
   "outputs": [
    {
     "data": {
      "text/plain": "       InvoiceNo StockCode                     Description  Quantity  \\\n61619     541431     23166  MEDIUM CERAMIC TOP STORAGE JAR     74215   \n540421    581483     23843     PAPER CRAFT , LITTLE BIRDIE     80995   \n\n               InvoiceDate  UnitPrice CustomerID         Country  \n61619  2011-01-18 10:01:00       1.04    12346.0  United Kingdom  \n540421 2011-12-09 09:15:00       2.08    16446.0  United Kingdom  ",
      "text/html": "<div>\n<style scoped>\n    .dataframe tbody tr th:only-of-type {\n        vertical-align: middle;\n    }\n\n    .dataframe tbody tr th {\n        vertical-align: top;\n    }\n\n    .dataframe thead th {\n        text-align: right;\n    }\n</style>\n<table border=\"1\" class=\"dataframe\">\n  <thead>\n    <tr style=\"text-align: right;\">\n      <th></th>\n      <th>InvoiceNo</th>\n      <th>StockCode</th>\n      <th>Description</th>\n      <th>Quantity</th>\n      <th>InvoiceDate</th>\n      <th>UnitPrice</th>\n      <th>CustomerID</th>\n      <th>Country</th>\n    </tr>\n  </thead>\n  <tbody>\n    <tr>\n      <th>61619</th>\n      <td>541431</td>\n      <td>23166</td>\n      <td>MEDIUM CERAMIC TOP STORAGE JAR</td>\n      <td>74215</td>\n      <td>2011-01-18 10:01:00</td>\n      <td>1.04</td>\n      <td>12346.0</td>\n      <td>United Kingdom</td>\n    </tr>\n    <tr>\n      <th>540421</th>\n      <td>581483</td>\n      <td>23843</td>\n      <td>PAPER CRAFT , LITTLE BIRDIE</td>\n      <td>80995</td>\n      <td>2011-12-09 09:15:00</td>\n      <td>2.08</td>\n      <td>16446.0</td>\n      <td>United Kingdom</td>\n    </tr>\n  </tbody>\n</table>\n</div>"
     },
     "execution_count": 19,
     "metadata": {},
     "output_type": "execute_result"
    }
   ],
   "source": [
    "df[df['Quantity']>10000]"
   ],
   "metadata": {
    "collapsed": false,
    "ExecuteTime": {
     "end_time": "2023-10-05T11:52:41.487138400Z",
     "start_time": "2023-10-05T11:52:41.327566Z"
    }
   },
   "id": "214e81719ed9b75d"
  },
  {
   "cell_type": "code",
   "execution_count": 20,
   "outputs": [],
   "source": [
    "df=df[df['Quantity']<10000]"
   ],
   "metadata": {
    "collapsed": false,
    "ExecuteTime": {
     "end_time": "2023-10-05T11:52:41.528030700Z",
     "start_time": "2023-10-05T11:52:41.358483600Z"
    }
   },
   "id": "c528b1e2106fe4e1"
  },
  {
   "cell_type": "code",
   "execution_count": 21,
   "outputs": [],
   "source": [
    "# There are negative values in the Quantity and Unitprice. Need to identify wheather it is useful \n",
    "# Spliting the data based on this negative condition\n",
    "\n",
    "df_part1=df[df['Quantity']<0]"
   ],
   "metadata": {
    "collapsed": false,
    "ExecuteTime": {
     "end_time": "2023-10-05T11:52:41.533016400Z",
     "start_time": "2023-10-05T11:52:41.455226600Z"
    }
   },
   "id": "f53327a20cbe72c1"
  },
  {
   "cell_type": "code",
   "execution_count": 22,
   "outputs": [
    {
     "data": {
      "text/plain": "    InvoiceNo StockCode                       Description  Quantity  \\\n141   C536379         D                          Discount        -1   \n154   C536383    35004C   SET OF 3 COLOURED  FLYING DUCKS        -1   \n235   C536391     22556    PLASTERS IN TIN CIRCUS PARADE        -12   \n236   C536391     21984  PACK OF 12 PINK PAISLEY TISSUES        -24   \n237   C536391     21983  PACK OF 12 BLUE PAISLEY TISSUES        -24   \n\n            InvoiceDate  UnitPrice CustomerID         Country  \n141 2010-12-01 09:41:00      27.50    14527.0  United Kingdom  \n154 2010-12-01 09:49:00       4.65    15311.0  United Kingdom  \n235 2010-12-01 10:24:00       1.65    17548.0  United Kingdom  \n236 2010-12-01 10:24:00       0.29    17548.0  United Kingdom  \n237 2010-12-01 10:24:00       0.29    17548.0  United Kingdom  ",
      "text/html": "<div>\n<style scoped>\n    .dataframe tbody tr th:only-of-type {\n        vertical-align: middle;\n    }\n\n    .dataframe tbody tr th {\n        vertical-align: top;\n    }\n\n    .dataframe thead th {\n        text-align: right;\n    }\n</style>\n<table border=\"1\" class=\"dataframe\">\n  <thead>\n    <tr style=\"text-align: right;\">\n      <th></th>\n      <th>InvoiceNo</th>\n      <th>StockCode</th>\n      <th>Description</th>\n      <th>Quantity</th>\n      <th>InvoiceDate</th>\n      <th>UnitPrice</th>\n      <th>CustomerID</th>\n      <th>Country</th>\n    </tr>\n  </thead>\n  <tbody>\n    <tr>\n      <th>141</th>\n      <td>C536379</td>\n      <td>D</td>\n      <td>Discount</td>\n      <td>-1</td>\n      <td>2010-12-01 09:41:00</td>\n      <td>27.50</td>\n      <td>14527.0</td>\n      <td>United Kingdom</td>\n    </tr>\n    <tr>\n      <th>154</th>\n      <td>C536383</td>\n      <td>35004C</td>\n      <td>SET OF 3 COLOURED  FLYING DUCKS</td>\n      <td>-1</td>\n      <td>2010-12-01 09:49:00</td>\n      <td>4.65</td>\n      <td>15311.0</td>\n      <td>United Kingdom</td>\n    </tr>\n    <tr>\n      <th>235</th>\n      <td>C536391</td>\n      <td>22556</td>\n      <td>PLASTERS IN TIN CIRCUS PARADE</td>\n      <td>-12</td>\n      <td>2010-12-01 10:24:00</td>\n      <td>1.65</td>\n      <td>17548.0</td>\n      <td>United Kingdom</td>\n    </tr>\n    <tr>\n      <th>236</th>\n      <td>C536391</td>\n      <td>21984</td>\n      <td>PACK OF 12 PINK PAISLEY TISSUES</td>\n      <td>-24</td>\n      <td>2010-12-01 10:24:00</td>\n      <td>0.29</td>\n      <td>17548.0</td>\n      <td>United Kingdom</td>\n    </tr>\n    <tr>\n      <th>237</th>\n      <td>C536391</td>\n      <td>21983</td>\n      <td>PACK OF 12 BLUE PAISLEY TISSUES</td>\n      <td>-24</td>\n      <td>2010-12-01 10:24:00</td>\n      <td>0.29</td>\n      <td>17548.0</td>\n      <td>United Kingdom</td>\n    </tr>\n  </tbody>\n</table>\n</div>"
     },
     "execution_count": 22,
     "metadata": {},
     "output_type": "execute_result"
    }
   ],
   "source": [
    "df_part1.head()"
   ],
   "metadata": {
    "collapsed": false,
    "ExecuteTime": {
     "end_time": "2023-10-05T11:52:41.640729300Z",
     "start_time": "2023-10-05T11:52:41.486142Z"
    }
   },
   "id": "a24617485b0a9b69"
  },
  {
   "cell_type": "code",
   "execution_count": 23,
   "outputs": [
    {
     "data": {
      "text/plain": "(9280, 8)"
     },
     "execution_count": 23,
     "metadata": {},
     "output_type": "execute_result"
    }
   ],
   "source": [
    "df_part1.shape"
   ],
   "metadata": {
    "collapsed": false,
    "ExecuteTime": {
     "end_time": "2023-10-05T11:52:41.762402500Z",
     "start_time": "2023-10-05T11:52:41.517059700Z"
    }
   },
   "id": "8b4e2eeff1d7dfcd"
  },
  {
   "cell_type": "code",
   "execution_count": 24,
   "outputs": [
    {
     "data": {
      "text/plain": "       InvoiceNo StockCode      Description  Quantity         InvoiceDate  \\\n299983   A563186         B  Adjust bad debt         1 2011-08-12 14:51:00   \n299984   A563187         B  Adjust bad debt         1 2011-08-12 14:52:00   \n\n        UnitPrice CustomerID         Country  \n299983  -11062.06    Unknown  United Kingdom  \n299984  -11062.06    Unknown  United Kingdom  ",
      "text/html": "<div>\n<style scoped>\n    .dataframe tbody tr th:only-of-type {\n        vertical-align: middle;\n    }\n\n    .dataframe tbody tr th {\n        vertical-align: top;\n    }\n\n    .dataframe thead th {\n        text-align: right;\n    }\n</style>\n<table border=\"1\" class=\"dataframe\">\n  <thead>\n    <tr style=\"text-align: right;\">\n      <th></th>\n      <th>InvoiceNo</th>\n      <th>StockCode</th>\n      <th>Description</th>\n      <th>Quantity</th>\n      <th>InvoiceDate</th>\n      <th>UnitPrice</th>\n      <th>CustomerID</th>\n      <th>Country</th>\n    </tr>\n  </thead>\n  <tbody>\n    <tr>\n      <th>299983</th>\n      <td>A563186</td>\n      <td>B</td>\n      <td>Adjust bad debt</td>\n      <td>1</td>\n      <td>2011-08-12 14:51:00</td>\n      <td>-11062.06</td>\n      <td>Unknown</td>\n      <td>United Kingdom</td>\n    </tr>\n    <tr>\n      <th>299984</th>\n      <td>A563187</td>\n      <td>B</td>\n      <td>Adjust bad debt</td>\n      <td>1</td>\n      <td>2011-08-12 14:52:00</td>\n      <td>-11062.06</td>\n      <td>Unknown</td>\n      <td>United Kingdom</td>\n    </tr>\n  </tbody>\n</table>\n</div>"
     },
     "execution_count": 24,
     "metadata": {},
     "output_type": "execute_result"
    }
   ],
   "source": [
    "df[df['UnitPrice']<0]"
   ],
   "metadata": {
    "collapsed": false,
    "ExecuteTime": {
     "end_time": "2023-10-05T11:52:41.771380100Z",
     "start_time": "2023-10-05T11:52:41.549973400Z"
    }
   },
   "id": "ddbf6373ae31a308"
  },
  {
   "cell_type": "markdown",
   "source": [
    "We can see that the negative unit price has only two values we can simply remove that"
   ],
   "metadata": {
    "collapsed": false
   },
   "id": "ecd527469a321b69"
  },
  {
   "cell_type": "code",
   "execution_count": 25,
   "outputs": [],
   "source": [
    "df=df[df['UnitPrice']>=0]"
   ],
   "metadata": {
    "collapsed": false,
    "ExecuteTime": {
     "end_time": "2023-10-05T11:52:41.914997600Z",
     "start_time": "2023-10-05T11:52:41.579892200Z"
    }
   },
   "id": "d3429663fb824027"
  },
  {
   "cell_type": "markdown",
   "source": [
    "Now we can create the second part for the df"
   ],
   "metadata": {
    "collapsed": false
   },
   "id": "523c1ae6bc49bb4f"
  },
  {
   "cell_type": "code",
   "execution_count": 26,
   "outputs": [],
   "source": [
    "df_part2=df[df['Quantity']>=0]"
   ],
   "metadata": {
    "collapsed": false,
    "ExecuteTime": {
     "end_time": "2023-10-05T11:52:42.002762200Z",
     "start_time": "2023-10-05T11:52:41.749437300Z"
    }
   },
   "id": "3e0bbf7df2de8c36"
  },
  {
   "cell_type": "code",
   "execution_count": 27,
   "outputs": [
    {
     "data": {
      "text/plain": "  InvoiceNo StockCode                          Description  Quantity  \\\n0    536365    85123A   WHITE HANGING HEART T-LIGHT HOLDER         6   \n1    536365     71053                  WHITE METAL LANTERN         6   \n2    536365    84406B       CREAM CUPID HEARTS COAT HANGER         8   \n3    536365    84029G  KNITTED UNION FLAG HOT WATER BOTTLE         6   \n4    536365    84029E       RED WOOLLY HOTTIE WHITE HEART.         6   \n\n          InvoiceDate  UnitPrice CustomerID         Country  \n0 2010-12-01 08:26:00       2.55    17850.0  United Kingdom  \n1 2010-12-01 08:26:00       3.39    17850.0  United Kingdom  \n2 2010-12-01 08:26:00       2.75    17850.0  United Kingdom  \n3 2010-12-01 08:26:00       3.39    17850.0  United Kingdom  \n4 2010-12-01 08:26:00       3.39    17850.0  United Kingdom  ",
      "text/html": "<div>\n<style scoped>\n    .dataframe tbody tr th:only-of-type {\n        vertical-align: middle;\n    }\n\n    .dataframe tbody tr th {\n        vertical-align: top;\n    }\n\n    .dataframe thead th {\n        text-align: right;\n    }\n</style>\n<table border=\"1\" class=\"dataframe\">\n  <thead>\n    <tr style=\"text-align: right;\">\n      <th></th>\n      <th>InvoiceNo</th>\n      <th>StockCode</th>\n      <th>Description</th>\n      <th>Quantity</th>\n      <th>InvoiceDate</th>\n      <th>UnitPrice</th>\n      <th>CustomerID</th>\n      <th>Country</th>\n    </tr>\n  </thead>\n  <tbody>\n    <tr>\n      <th>0</th>\n      <td>536365</td>\n      <td>85123A</td>\n      <td>WHITE HANGING HEART T-LIGHT HOLDER</td>\n      <td>6</td>\n      <td>2010-12-01 08:26:00</td>\n      <td>2.55</td>\n      <td>17850.0</td>\n      <td>United Kingdom</td>\n    </tr>\n    <tr>\n      <th>1</th>\n      <td>536365</td>\n      <td>71053</td>\n      <td>WHITE METAL LANTERN</td>\n      <td>6</td>\n      <td>2010-12-01 08:26:00</td>\n      <td>3.39</td>\n      <td>17850.0</td>\n      <td>United Kingdom</td>\n    </tr>\n    <tr>\n      <th>2</th>\n      <td>536365</td>\n      <td>84406B</td>\n      <td>CREAM CUPID HEARTS COAT HANGER</td>\n      <td>8</td>\n      <td>2010-12-01 08:26:00</td>\n      <td>2.75</td>\n      <td>17850.0</td>\n      <td>United Kingdom</td>\n    </tr>\n    <tr>\n      <th>3</th>\n      <td>536365</td>\n      <td>84029G</td>\n      <td>KNITTED UNION FLAG HOT WATER BOTTLE</td>\n      <td>6</td>\n      <td>2010-12-01 08:26:00</td>\n      <td>3.39</td>\n      <td>17850.0</td>\n      <td>United Kingdom</td>\n    </tr>\n    <tr>\n      <th>4</th>\n      <td>536365</td>\n      <td>84029E</td>\n      <td>RED WOOLLY HOTTIE WHITE HEART.</td>\n      <td>6</td>\n      <td>2010-12-01 08:26:00</td>\n      <td>3.39</td>\n      <td>17850.0</td>\n      <td>United Kingdom</td>\n    </tr>\n  </tbody>\n</table>\n</div>"
     },
     "execution_count": 27,
     "metadata": {},
     "output_type": "execute_result"
    }
   ],
   "source": [
    "df_part2.head()"
   ],
   "metadata": {
    "collapsed": false,
    "ExecuteTime": {
     "end_time": "2023-10-05T11:52:42.041655200Z",
     "start_time": "2023-10-05T11:52:41.826232900Z"
    }
   },
   "id": "ab4f4a2ddb09505c"
  },
  {
   "cell_type": "code",
   "execution_count": 28,
   "outputs": [
    {
     "data": {
      "text/plain": "(530100, 8)"
     },
     "execution_count": 28,
     "metadata": {},
     "output_type": "execute_result"
    }
   ],
   "source": [
    "df_part2.shape"
   ],
   "metadata": {
    "collapsed": false,
    "ExecuteTime": {
     "end_time": "2023-10-05T11:52:42.042655400Z",
     "start_time": "2023-10-05T11:52:41.858148Z"
    }
   },
   "id": "7547d109dd9fe755"
  },
  {
   "cell_type": "markdown",
   "source": [
    "## Observation\n",
    "\n",
    "Now we have two parts of df \n",
    "df_part1 - contain data with negative values in the quantity\n",
    "df_part2 - conatin data with non negative values in the quantity "
   ],
   "metadata": {
    "collapsed": false
   },
   "id": "a891bbaac29cf49a"
  },
  {
   "cell_type": "markdown",
   "source": [
    "# EDA \n",
    "\n",
    "### Start with df_part2 - data with non negative values in quantity \n",
    "\n",
    "## Data overview"
   ],
   "metadata": {
    "collapsed": false
   },
   "id": "d4e37abd85f289d2"
  },
  {
   "cell_type": "code",
   "execution_count": 29,
   "outputs": [
    {
     "name": "stdout",
     "output_type": "stream",
     "text": [
      "Data Overview\n",
      "\n",
      "Number of records:\n",
      " 530100\n",
      "Number of features:\n",
      " 8\n",
      "Feature name:\n",
      " ['InvoiceNo', 'StockCode', 'Description', 'Quantity', 'InvoiceDate', 'UnitPrice', 'CustomerID', 'Country']\n",
      "Discriptive view on the data:\n",
      "             Quantity                    InvoiceDate      UnitPrice\n",
      "count  530100.000000                         530100  530100.000000\n",
      "mean       10.249319  2011-07-04 20:16:34.616185856       3.861236\n",
      "min         1.000000            2010-12-01 08:26:00       0.001000\n",
      "25%         1.000000            2011-03-28 12:22:00       1.250000\n",
      "50%         3.000000            2011-07-20 12:58:00       2.080000\n",
      "75%        10.000000            2011-10-19 12:39:00       4.130000\n",
      "max      4800.000000            2011-12-09 12:50:00    8142.750000\n",
      "std        37.793615                            NaN      26.712399\n",
      "<class 'pandas.core.frame.DataFrame'>\n",
      "Index: 530100 entries, 0 to 541908\n",
      "Data columns (total 8 columns):\n",
      " #   Column       Non-Null Count   Dtype         \n",
      "---  ------       --------------   -----         \n",
      " 0   InvoiceNo    530100 non-null  object        \n",
      " 1   StockCode    530100 non-null  object        \n",
      " 2   Description  530100 non-null  object        \n",
      " 3   Quantity     530100 non-null  int64         \n",
      " 4   InvoiceDate  530100 non-null  datetime64[ns]\n",
      " 5   UnitPrice    530100 non-null  float64       \n",
      " 6   CustomerID   530100 non-null  object        \n",
      " 7   Country      530100 non-null  object        \n",
      "dtypes: datetime64[ns](1), float64(1), int64(1), object(5)\n",
      "memory usage: 36.4+ MB\n",
      "None\n",
      "Number of missing values:\n",
      " 0\n",
      "number of unique values:\n",
      " InvoiceNo      19956\n",
      "StockCode       3920\n",
      "Description     4024\n",
      "Quantity         373\n",
      "InvoiceDate    18496\n",
      "UnitPrice       1289\n",
      "CustomerID      4338\n",
      "Country           38\n",
      "dtype: int64\n"
     ]
    }
   ],
   "source": [
    "dataoverview(df_part2)"
   ],
   "metadata": {
    "collapsed": false,
    "ExecuteTime": {
     "end_time": "2023-10-05T11:52:42.882407900Z",
     "start_time": "2023-10-05T11:52:41.875101900Z"
    }
   },
   "id": "524b6957e5fac4bc"
  },
  {
   "cell_type": "markdown",
   "source": [
    "### Top selling product "
   ],
   "metadata": {
    "collapsed": false
   },
   "id": "69df641e881dfe2e"
  },
  {
   "cell_type": "code",
   "execution_count": 34,
   "outputs": [
    {
     "name": "stdout",
     "output_type": "stream",
     "text": [
      "Description\n",
      "WORLD WAR 2 GLIDERS ASSTD DESIGNS     55047\n",
      "JUMBO BAG RED RETROSPOT               48474\n",
      "WHITE HANGING HEART T-LIGHT HOLDER    37891\n",
      "POPCORN HOLDER                        36761\n",
      "ASSORTED COLOUR BIRD ORNAMENT         36461\n",
      "PACK OF 72 RETROSPOT CAKE CASES       36419\n",
      "RABBIT NIGHT LIGHT                    30788\n",
      "MINI PAINT SET VINTAGE                26633\n",
      "PACK OF 12 LONDON TISSUES             26135\n",
      "PACK OF 60 PINK PAISLEY CAKE CASES    24854\n",
      "Name: Quantity, dtype: int64\n"
     ]
    }
   ],
   "source": [
    "# Top 10 most sold products\n",
    "top_products = df_part2.groupby('Description')['Quantity'].sum().sort_values(ascending=False).head(10)\n",
    "print(top_products)"
   ],
   "metadata": {
    "collapsed": false,
    "ExecuteTime": {
     "end_time": "2023-10-05T12:06:07.186934900Z",
     "start_time": "2023-10-05T12:06:07.039211Z"
    }
   },
   "id": "687e386d81691af6"
  },
  {
   "cell_type": "markdown",
   "source": [
    "### Sales by Country:"
   ],
   "metadata": {
    "collapsed": false
   },
   "id": "86537cb602cd683"
  },
  {
   "cell_type": "code",
   "execution_count": 35,
   "outputs": [
    {
     "data": {
      "text/plain": "<Figure size 1200x600 with 1 Axes>",
      "image/png": "[encoded data removed]"
     },
     "metadata": {},
     "output_type": "display_data"
    }
   ],
   "source": [
    "# Sales by Country\n",
    "plt.figure(figsize=(12, 6))\n",
    "sns.barplot(x='Country', y='Quantity', data=df_part2)\n",
    "plt.xticks(rotation=90)\n",
    "plt.xlabel('Country')\n",
    "plt.ylabel('Total Sales Quantity')\n",
    "plt.title('Total Sales by Country')\n",
    "plt.show()"
   ],
   "metadata": {
    "collapsed": false,
    "ExecuteTime": {
     "end_time": "2023-10-05T12:15:02.870033500Z",
     "start_time": "2023-10-05T12:14:51.737228100Z"
    }
   },
   "id": "176a6606790eefbc"
  },
  {
   "cell_type": "markdown",
   "source": [
    "### Invoice Frequency:"
   ],
   "metadata": {
    "collapsed": false
   },
   "id": "a41e2a127b298574"
  },
  {
   "cell_type": "code",
   "execution_count": 36,
   "outputs": [
    {
     "name": "stdout",
     "output_type": "stream",
     "text": [
      "CustomerID\n",
      "12347.0    7\n",
      "12348.0    4\n",
      "12349.0    1\n",
      "12350.0    1\n",
      "12352.0    8\n",
      "Name: InvoiceNo, dtype: int64\n"
     ]
    }
   ],
   "source": [
    "# Count unique InvoiceNo for each customer\n",
    "invoice_count = df_part2.groupby('CustomerID')['InvoiceNo'].nunique()\n",
    "print(invoice_count.head())"
   ],
   "metadata": {
    "collapsed": false,
    "ExecuteTime": {
     "end_time": "2023-10-05T12:16:58.362225700Z",
     "start_time": "2023-10-05T12:16:58.168742900Z"
    }
   },
   "id": "ec8d9f0a9fa52c25"
  },
  {
   "cell_type": "markdown",
   "source": [
    "### Monthly Sales:"
   ],
   "metadata": {
    "collapsed": false
   },
   "id": "58252975a2182640"
  },
  {
   "cell_type": "code",
   "execution_count": 37,
   "outputs": [
    {
     "name": "stderr",
     "output_type": "stream",
     "text": [
      "C:\\Users\\jonit.j\\AppData\\Local\\Temp\\ipykernel_19332\\2302026371.py:2: SettingWithCopyWarning: \n",
      "A value is trying to be set on a copy of a slice from a DataFrame.\n",
      "Try using .loc[row_indexer,col_indexer] = value instead\n",
      "\n",
      "See the caveats in the documentation: https://pandas.pydata.org/pandas-docs/stable/user_guide/indexing.html#returning-a-view-versus-a-copy\n",
      "  df_part2['Month'] = df_part2['InvoiceDate'].dt.to_period('M')\n"
     ]
    },
    {
     "data": {
      "text/plain": "<Figure size 640x480 with 1 Axes>",
      "image/png": "[encoded data removed]"
     },
     "metadata": {},
     "output_type": "display_data"
    }
   ],
   "source": [
    "# Extract month from InvoiceDate and create a monthly sales plot\n",
    "df_part2['Month'] = df_part2['InvoiceDate'].dt.to_period('M')\n",
    "monthly_sales = df_part2.groupby('Month')['Quantity'].sum()\n",
    "monthly_sales.plot(kind='line', marker='o')\n",
    "plt.xlabel('Month')\n",
    "plt.ylabel('Total Sales Quantity')\n",
    "plt.title('Monthly Sales Quantity')\n",
    "plt.show()"
   ],
   "metadata": {
    "collapsed": false,
    "ExecuteTime": {
     "end_time": "2023-10-05T12:38:41.705741300Z",
     "start_time": "2023-10-05T12:38:41.292959Z"
    }
   },
   "id": "85127a10bd022890"
  },
  {
   "cell_type": "markdown",
   "source": [
    "### Customer Distribution:"
   ],
   "metadata": {
    "collapsed": false
   },
   "id": "b8e8dc9a4e14b9e2"
  },
  {
   "cell_type": "code",
   "execution_count": 38,
   "outputs": [
    {
     "name": "stdout",
     "output_type": "stream",
     "text": [
      "Country\n",
      "United Kingdom          3920\n",
      "Germany                   94\n",
      "France                    88\n",
      "Spain                     30\n",
      "Belgium                   25\n",
      "Switzerland               22\n",
      "Portugal                  20\n",
      "Italy                     14\n",
      "Finland                   12\n",
      "Austria                   11\n",
      "Norway                    10\n",
      "Netherlands                9\n",
      "Australia                  9\n",
      "Denmark                    9\n",
      "Channel Islands            9\n",
      "Cyprus                     8\n",
      "Sweden                     8\n",
      "Japan                      8\n",
      "Poland                     6\n",
      "Unspecified                5\n",
      "Israel                     4\n",
      "EIRE                       4\n",
      "USA                        4\n",
      "Greece                     4\n",
      "Canada                     4\n",
      "Bahrain                    3\n",
      "Malta                      2\n",
      "United Arab Emirates       2\n",
      "Singapore                  1\n",
      "Brazil                     1\n",
      "Saudi Arabia               1\n",
      "Lebanon                    1\n",
      "RSA                        1\n",
      "Hong Kong                  1\n",
      "Iceland                    1\n",
      "Czech Republic             1\n",
      "Lithuania                  1\n",
      "European Community         1\n",
      "Name: CustomerID, dtype: int64\n"
     ]
    }
   ],
   "source": [
    "# Distribution of the number of customers by country\n",
    "customer_count_by_country = df_part2.groupby('Country')['CustomerID'].nunique().sort_values(ascending=False)\n",
    "print(customer_count_by_country)"
   ],
   "metadata": {
    "collapsed": false,
    "ExecuteTime": {
     "end_time": "2023-10-05T12:46:03.317471600Z",
     "start_time": "2023-10-05T12:46:03.154905200Z"
    }
   },
   "id": "e533a69c100ce6c1"
  },
  {
   "cell_type": "code",
   "execution_count": null,
   "outputs": [],
   "source": [],
   "metadata": {
    "collapsed": false
   },
   "id": "6ddfd3d94cde76d6"
  }
 ],
 "metadata": {
  "kernelspec": {
   "display_name": "Python 3",
   "language": "python",
   "name": "python3"
  },
  "language_info": {
   "codemirror_mode": {
    "name": "ipython",
    "version": 2
   },
   "file_extension": ".py",
   "mimetype": "text/x-python",
   "name": "python",
   "nbconvert_exporter": "python",
   "pygments_lexer": "ipython2",
   "version": "2.7.6"
  }
 },
 "nbformat": 4,
 "nbformat_minor": 5
}
